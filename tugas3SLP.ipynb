{
 "cells": [
  {
   "cell_type": "code",
   "execution_count": 90,
   "metadata": {
    "collapsed": false,
    "scrolled": false
   },
   "outputs": [
    {
     "data": {
      "image/png": "[encoded data removed]",
      "text/plain": [
       "<matplotlib.figure.Figure at 0x27fb3d8f908>"
      ]
     },
     "metadata": {},
     "output_type": "display_data"
    }
   ],
   "source": [
    "from random import seed\n",
    "from random import randrange\n",
    "import pandas as pd\n",
    "import numpy as np\n",
    "from csv import reader\n",
    "from matplotlib import pyplot as plt\n",
    "\n",
    "\n",
    "def load_csv(filename):\n",
    "\tdataset = list()\n",
    "\twith open(filename, 'r') as file:\n",
    "\t\tcsv_reader = reader(file)\n",
    "\t\tfor row in csv_reader:\n",
    "\t\t\tif not row:\n",
    "\t\t\t\tcontinue\n",
    "\t\t\tdataset.append(row)\n",
    "\treturn dataset\n",
    "\n",
    "\n",
    "def str_column_to_float(dataset, column):\n",
    "    for row in dataset:\n",
    "        row[column]=float(row[column].strip())\n",
    "        \n",
    "def str_column_to_int(dataset, column):\n",
    "    class_values = [row[column] for row in dataset]\n",
    "    unique = set(class_values)\n",
    "    lookup = dict()\n",
    "    for i, value in enumerate(unique):\n",
    "        lookup[value] = i\n",
    "    for row in dataset:\n",
    "        row[column] = lookup[row[column]]\n",
    "    return lookup\n",
    "\n",
    "def activate(row, theta):\n",
    "    result=theta[0]\n",
    "    for i in range (len(row)-1):\n",
    "        result+=theta[i+1]*row[i]\n",
    "        activation=1/(1+np.exp(-result))\n",
    "    return activation\n",
    "\n",
    "def accuracy_matriks(actual, predicted):\n",
    "    correct=0\n",
    "    for i in range(len(actual)):\n",
    "        if actual[i] == predicted[i]:\n",
    "            correct+=1\n",
    "    return correct/float(len(actual))*100.0\n",
    "\n",
    "#prediction\n",
    "def predict(row, theta):\n",
    "    result=theta[0]\n",
    "    for i in range (len(row)-1):\n",
    "        result+=theta[i+1]*row[i]\n",
    "        activation=1/(1+np.exp(-result))\n",
    "    return 1.0 if activation>0.5 else 0.0 \n",
    "\n",
    "#update weight\n",
    "\n",
    "\n",
    "def cross_validation_split(data, n_folds):\n",
    "    data_split=list()\n",
    "    data_copy=list(data)\n",
    "    fold_size=int(len(data) / n_folds)\n",
    "    for i in range(n_folds):\n",
    "        fold=list()\n",
    "        while len(fold) < fold_size:\n",
    "            index=randrange(0,len(data_copy))\n",
    "            fold.append(data_copy.pop(index))\n",
    "        data_split.append(fold)\n",
    "    return data_split\n",
    "\n",
    "def activate(row, theta):\n",
    "    result=theta[0]\n",
    "    for i in range (len(row)-1):\n",
    "        result+=theta[i+1]*row[i]\n",
    "        activation=1/(1+np.exp(-result))\n",
    "    return activation\n",
    "\n",
    "iris1 = load_csv('irisnew2.csv')\n",
    "\n",
    "for i in range(len(iris1[0])-1):\n",
    "    str_column_to_float(iris1, i)\n",
    "    \n",
    "str_column_to_int(iris1, len(iris1[0])-1)\n",
    "\n",
    "\n",
    "alfa=0.1\n",
    "n_folds=5\n",
    "n_epoch=25\n",
    "\n",
    "theta=[0.5, 0.5, 0.5, 0.5, 0.5]\n",
    "dtheta=[0.0, 0.0, 0.0, 0.0, 0.0]\n",
    "epnum=0\n",
    "epoch2=list()\n",
    "errorli=list()\n",
    "skor=list()\n",
    "errorli2=list()\n",
    "for epoch in range(n_epoch):    \n",
    "    epoch2.append(epnum)    \n",
    "    for row in iris1:\n",
    "        activation=activate(row, theta)\n",
    "        error=(row[-1]-activation)**2\n",
    "        dtheta[0]=2*(row[-1]-activation)*(1-activation)*activation\n",
    "        theta[0]=theta[0] + alfa*dtheta[0]\n",
    "        for i in range(len(row)-1):\n",
    "            dtheta[i+1]=2*theta[i+1]*(row[-1]-activation)*(1-activation)*activation\n",
    "            theta[i+1]=theta[i+1]+alfa*dtheta[i+1]\n",
    "        \n",
    "    folds = cross_validation_split(iris1, n_folds)\n",
    "    scores=list()\n",
    "\n",
    "    for fold in folds:\n",
    "        train_set = list(folds)\n",
    "        train_set.remove(fold)\n",
    "        train_set = sum(train_set, [])\n",
    "        test_set = list()\n",
    "        for row in fold:\n",
    "            row_copy = list(row)\n",
    "            test_set.append(row_copy)\n",
    "            row_copy[-1] = None\n",
    "        predictions=list()\n",
    "        for row in test_set:\n",
    "            prediction=predict(row, theta)\n",
    "            predictions.append(prediction)            \n",
    "        actual = [row[-1] for row in fold]\n",
    "        accuracy = accuracy_matriks(actual, predictions)\n",
    "        scores.append(accuracy)\n",
    "    meanacc=sum(scores)/float(len(scores))\n",
    "    skor.append(meanacc)\n",
    "    errorli.append(error)\n",
    "    errorli2.append(errortest)\n",
    "    epnum=epnum+1\n",
    "    \n",
    "\n",
    "plt.plot(epoch2, errorli, color='green')\n",
    "\n",
    "plt.show()\n",
    "\n",
    "\n",
    "    \n"
   ]
  },
  {
   "cell_type": "code",
   "execution_count": 75,
   "metadata": {
    "collapsed": false
   },
   "outputs": [
    {
     "data": {
      "image/png": "[encoded data removed]",
      "text/plain": [
       "<matplotlib.figure.Figure at 0x27fb35e13c8>"
      ]
     },
     "metadata": {},
     "output_type": "display_data"
    }
   ],
   "source": [
    "plt.plot(epoch2, skor)\n",
    "plt.show()"
   ]
  },
  {
   "cell_type": "markdown",
   "metadata": {},
   "source": [
    "1. Load data dengan mengkonversikan semua elemen menjadi integer/float, karena ada kolom yang tipe data string kita drop.\n",
    "2. Implementasikan Single Layer Perceptron, dengan fungsi activate untuk rumus sigmoid, dan fungsi update theta untuk mengupdate theta terhadap dtheta, dan fungsi predict untuk prediction jika lebih dari 0.5 maka 1, jika tidak maka 0.\n",
    "3. cross-validation dengan membagi data menjadi n_folds, setelah dibagi lalu diambil train_set dan test_set\n",
    "4. Membuat fungsi akurasi matriks, yang mana jika predicted cocok dengan yang actual, maka variabel correct bertambah 1\n",
    "5. Membuat fungsi perceptron, yakni menggunakan fungsi predict tadi untuk memprediksi, namun di sini objeknya ialah test_set tadi.\n",
    "6. Membuat fungsi evaluasi, fungsi evaluasi digunakan untuk melihat score seberapa tinggi akurasi kita untuk memprediksi data\n",
    "7. Fungsi str column to int dan float ialah mengubah semua tipe data sehingga tidak ada tipe data string\n",
    "8. Membuat epoch\n",
    "9. Memplotting data train dan test tersebut terhadap epochnya\n",
    "10. link code https://github.com/mazmiaris/ML-Single-Layer-Perceptron/blob/master/Untitled3%20(1).ipynb"
   ]
  }
 ],
 "metadata": {
  "kernelspec": {
   "display_name": "Python 3",
   "language": "python",
   "name": "python3"
  },
  "language_info": {
   "codemirror_mode": {
    "name": "ipython",
    "version": 3
   },
   "file_extension": ".py",
   "mimetype": "text/x-python",
   "name": "python",
   "nbconvert_exporter": "python",
   "pygments_lexer": "ipython3",
   "version": "3.6.0"
  }
 },
 "nbformat": 4,
 "nbformat_minor": 2
}
